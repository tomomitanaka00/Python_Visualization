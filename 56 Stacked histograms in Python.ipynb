{
 "cells": [
  {
   "cell_type": "code",
   "execution_count": 1,
   "id": "d856af10",
   "metadata": {},
   "outputs": [],
   "source": [
    "import pandas as pd\n",
    "import os\n",
    "os.chdir('/Users/ttanaka/Desktop/coursera/Python A-Z Udemy')"
   ]
  },
  {
   "cell_type": "code",
   "execution_count": 2,
   "id": "236b0ffc",
   "metadata": {},
   "outputs": [],
   "source": [
    "movies=pd.read_csv(\"P4-Movie-Ratings.csv\")"
   ]
  },
  {
   "cell_type": "code",
   "execution_count": 3,
   "id": "3661d7c3",
   "metadata": {},
   "outputs": [],
   "source": [
    "movies.columns=[\"Film\", \"Genre\", \"CriticRating\", \"AudienceRating\", \"BudgetMillions\", \"Year\"]"
   ]
  },
  {
   "cell_type": "code",
   "execution_count": 4,
   "id": "98735c79",
   "metadata": {},
   "outputs": [],
   "source": [
    "movies.Film=movies.Film.astype('category')\n",
    "movies.Genre=movies.Genre.astype('category')\n",
    "movies.Year=movies.Year.astype('category')"
   ]
  },
  {
   "cell_type": "code",
   "execution_count": 5,
   "id": "712cb885",
   "metadata": {},
   "outputs": [],
   "source": [
    "from matplotlib import pyplot as plt\n",
    "import seaborn as sns\n",
    "%matplotlib inline\n",
    "import warnings\n",
    "warnings.filterwarnings('ignore')"
   ]
  },
  {
   "cell_type": "code",
   "execution_count": 6,
   "id": "b195d6bf",
   "metadata": {},
   "outputs": [
    {
     "data": {
      "image/png": "[encoded data removed]",
      "text/plain": [
       "<Figure size 432x288 with 1 Axes>"
      ]
     },
     "metadata": {
      "needs_background": "light"
     },
     "output_type": "display_data"
    }
   ],
   "source": [
    "h1=plt.hist(movies.BudgetMillions)\n",
    "plt.show()"
   ]
  },
  {
   "cell_type": "code",
   "execution_count": 7,
   "id": "7c99ad78",
   "metadata": {},
   "outputs": [
    {
     "data": {
      "text/html": [
       "<div>\n",
       "<style scoped>\n",
       "    .dataframe tbody tr th:only-of-type {\n",
       "        vertical-align: middle;\n",
       "    }\n",
       "\n",
       "    .dataframe tbody tr th {\n",
       "        vertical-align: top;\n",
       "    }\n",
       "\n",
       "    .dataframe thead th {\n",
       "        text-align: right;\n",
       "    }\n",
       "</style>\n",
       "<table border=\"1\" class=\"dataframe\">\n",
       "  <thead>\n",
       "    <tr style=\"text-align: right;\">\n",
       "      <th></th>\n",
       "      <th>Film</th>\n",
       "      <th>Genre</th>\n",
       "      <th>CriticRating</th>\n",
       "      <th>AudienceRating</th>\n",
       "      <th>BudgetMillions</th>\n",
       "      <th>Year</th>\n",
       "    </tr>\n",
       "  </thead>\n",
       "  <tbody>\n",
       "    <tr>\n",
       "      <th>10</th>\n",
       "      <td>88 Minutes</td>\n",
       "      <td>Drama</td>\n",
       "      <td>5</td>\n",
       "      <td>51</td>\n",
       "      <td>30</td>\n",
       "      <td>2007</td>\n",
       "    </tr>\n",
       "    <tr>\n",
       "      <th>11</th>\n",
       "      <td>A Dangerous Method</td>\n",
       "      <td>Drama</td>\n",
       "      <td>79</td>\n",
       "      <td>89</td>\n",
       "      <td>20</td>\n",
       "      <td>2011</td>\n",
       "    </tr>\n",
       "    <tr>\n",
       "      <th>13</th>\n",
       "      <td>A Serious Man</td>\n",
       "      <td>Drama</td>\n",
       "      <td>89</td>\n",
       "      <td>64</td>\n",
       "      <td>7</td>\n",
       "      <td>2009</td>\n",
       "    </tr>\n",
       "    <tr>\n",
       "      <th>18</th>\n",
       "      <td>Albert Nobbs</td>\n",
       "      <td>Drama</td>\n",
       "      <td>53</td>\n",
       "      <td>43</td>\n",
       "      <td>8</td>\n",
       "      <td>2011</td>\n",
       "    </tr>\n",
       "    <tr>\n",
       "      <th>23</th>\n",
       "      <td>All Good Things</td>\n",
       "      <td>Drama</td>\n",
       "      <td>33</td>\n",
       "      <td>64</td>\n",
       "      <td>20</td>\n",
       "      <td>2010</td>\n",
       "    </tr>\n",
       "    <tr>\n",
       "      <th>...</th>\n",
       "      <td>...</td>\n",
       "      <td>...</td>\n",
       "      <td>...</td>\n",
       "      <td>...</td>\n",
       "      <td>...</td>\n",
       "      <td>...</td>\n",
       "    </tr>\n",
       "    <tr>\n",
       "      <th>529</th>\n",
       "      <td>War Horse</td>\n",
       "      <td>Drama</td>\n",
       "      <td>77</td>\n",
       "      <td>73</td>\n",
       "      <td>66</td>\n",
       "      <td>2011</td>\n",
       "    </tr>\n",
       "    <tr>\n",
       "      <th>532</th>\n",
       "      <td>Water For Elephants</td>\n",
       "      <td>Drama</td>\n",
       "      <td>60</td>\n",
       "      <td>72</td>\n",
       "      <td>38</td>\n",
       "      <td>2011</td>\n",
       "    </tr>\n",
       "    <tr>\n",
       "      <th>534</th>\n",
       "      <td>We Own the Night</td>\n",
       "      <td>Drama</td>\n",
       "      <td>55</td>\n",
       "      <td>63</td>\n",
       "      <td>21</td>\n",
       "      <td>2007</td>\n",
       "    </tr>\n",
       "    <tr>\n",
       "      <th>541</th>\n",
       "      <td>Whip It</td>\n",
       "      <td>Drama</td>\n",
       "      <td>84</td>\n",
       "      <td>73</td>\n",
       "      <td>15</td>\n",
       "      <td>2009</td>\n",
       "    </tr>\n",
       "    <tr>\n",
       "      <th>545</th>\n",
       "      <td>Winter's Bone</td>\n",
       "      <td>Drama</td>\n",
       "      <td>94</td>\n",
       "      <td>73</td>\n",
       "      <td>2</td>\n",
       "      <td>2010</td>\n",
       "    </tr>\n",
       "  </tbody>\n",
       "</table>\n",
       "<p>101 rows × 6 columns</p>\n",
       "</div>"
      ],
      "text/plain": [
       "                    Film  Genre  CriticRating  AudienceRating  BudgetMillions  \\\n",
       "10            88 Minutes  Drama             5              51              30   \n",
       "11    A Dangerous Method  Drama            79              89              20   \n",
       "13        A Serious Man   Drama            89              64               7   \n",
       "18          Albert Nobbs  Drama            53              43               8   \n",
       "23       All Good Things  Drama            33              64              20   \n",
       "..                   ...    ...           ...             ...             ...   \n",
       "529            War Horse  Drama            77              73              66   \n",
       "532  Water For Elephants  Drama            60              72              38   \n",
       "534     We Own the Night  Drama            55              63              21   \n",
       "541             Whip It   Drama            84              73              15   \n",
       "545        Winter's Bone  Drama            94              73               2   \n",
       "\n",
       "     Year  \n",
       "10   2007  \n",
       "11   2011  \n",
       "13   2009  \n",
       "18   2011  \n",
       "23   2010  \n",
       "..    ...  \n",
       "529  2011  \n",
       "532  2011  \n",
       "534  2007  \n",
       "541  2009  \n",
       "545  2010  \n",
       "\n",
       "[101 rows x 6 columns]"
      ]
     },
     "execution_count": 7,
     "metadata": {},
     "output_type": "execute_result"
    }
   ],
   "source": [
    "movies[movies.Genre=='Drama']"
   ]
  },
  {
   "cell_type": "code",
   "execution_count": 8,
   "id": "fd7be51c",
   "metadata": {},
   "outputs": [
    {
     "data": {
      "text/plain": [
       "10     30\n",
       "11     20\n",
       "13      7\n",
       "18      8\n",
       "23     20\n",
       "       ..\n",
       "529    66\n",
       "532    38\n",
       "534    21\n",
       "541    15\n",
       "545     2\n",
       "Name: BudgetMillions, Length: 101, dtype: int64"
      ]
     },
     "execution_count": 8,
     "metadata": {},
     "output_type": "execute_result"
    }
   ],
   "source": [
    "movies[movies.Genre=='Drama'].BudgetMillions"
   ]
  },
  {
   "cell_type": "code",
   "execution_count": 9,
   "id": "f7942771",
   "metadata": {},
   "outputs": [
    {
     "data": {
      "image/png": "[encoded data removed]",
      "text/plain": [
       "<Figure size 432x288 with 1 Axes>"
      ]
     },
     "metadata": {
      "needs_background": "light"
     },
     "output_type": "display_data"
    }
   ],
   "source": [
    "plt.hist(movies[movies.Genre=='Drama'].BudgetMillions,bins=15)\n",
    "plt.hist(movies[movies.Genre=='Action'].BudgetMillions,bins=15)\n",
    "plt.hist(movies[movies.Genre=='Adventure'].BudgetMillions,bins=15)\n",
    "plt.hist(movies[movies.Genre=='Comedy'].BudgetMillions,bins=15)\n",
    "plt.hist(movies[movies.Genre=='Horror'].BudgetMillions,bins=15)\n",
    "\n",
    "plt.show()"
   ]
  },
  {
   "cell_type": "code",
   "execution_count": 10,
   "id": "ebae4bce",
   "metadata": {},
   "outputs": [
    {
     "data": {
      "text/plain": [
       "(array([[ 48.,  62.,  28.,  18.,  12.,   3.,   0.,   0.,   1.,   0.,   0.,\n",
       "           0.,   0.,   0.,   0.],\n",
       "        [ 51.,  68.,  31.,  25.,  12.,   5.,   2.,   4.,   1.,   0.,   1.,\n",
       "           0.,   1.,   0.,   0.],\n",
       "        [ 90., 109.,  42.,  31.,  14.,   6.,   2.,   5.,   1.,   0.,   1.,\n",
       "           0.,   1.,   0.,   0.],\n",
       "        [114., 126.,  50.,  31.,  14.,   6.,   2.,   5.,   1.,   0.,   1.,\n",
       "           0.,   1.,   0.,   0.],\n",
       "        [123., 165.,  74.,  44.,  30.,  15.,  10.,  19.,   6.,   4.,   9.,\n",
       "           2.,   3.,   0.,   1.]]),\n",
       " array([  0.,  20.,  40.,  60.,  80., 100., 120., 140., 160., 180., 200.,\n",
       "        220., 240., 260., 280., 300.]),\n",
       " <a list of 5 BarContainer objects>)"
      ]
     },
     "execution_count": 10,
     "metadata": {},
     "output_type": "execute_result"
    },
    {
     "data": {
      "image/png": "[encoded data removed]",
      "text/plain": [
       "<Figure size 432x288 with 1 Axes>"
      ]
     },
     "metadata": {
      "needs_background": "light"
     },
     "output_type": "display_data"
    }
   ],
   "source": [
    "\n",
    "plt.hist([movies[movies.Genre=='Comedy'].BudgetMillions, movies[movies.Genre=='Adventure'].BudgetMillions, movies[movies.Genre=='Drama'].BudgetMillions,movies[movies.Genre=='Horror'].BudgetMillions,movies[movies.Genre=='Action'].BudgetMillions]\n",
    ",bins=15,stacked=True)\n"
   ]
  },
  {
   "cell_type": "code",
   "execution_count": 11,
   "id": "03d868eb",
   "metadata": {},
   "outputs": [
    {
     "name": "stdout",
     "output_type": "stream",
     "text": [
      "Action\n",
      "Adventure\n",
      "Comedy\n",
      "Drama\n",
      "Horror\n",
      "Romance\n",
      "Thriller\n"
     ]
    }
   ],
   "source": [
    "#use loop to automate\n",
    "for gen in movies.Genre.cat.categories:\n",
    "    print(gen)\n"
   ]
  },
  {
   "cell_type": "code",
   "execution_count": 12,
   "id": "c55e7ba7",
   "metadata": {},
   "outputs": [
    {
     "name": "stdout",
     "output_type": "stream",
     "text": [
      "[2       20\n",
      "5      200\n",
      "15      35\n",
      "29      20\n",
      "30      20\n",
      "      ... \n",
      "531    130\n",
      "542     35\n",
      "546    150\n",
      "547    160\n",
      "557     24\n",
      "Name: BudgetMillions, Length: 154, dtype: int64, 1      105\n",
      "3       18\n",
      "19     200\n",
      "21      45\n",
      "24      40\n",
      "32      78\n",
      "46      20\n",
      "65      38\n",
      "68     140\n",
      "130     73\n",
      "165     12\n",
      "166    125\n",
      "167    250\n",
      "168    150\n",
      "176     36\n",
      "178    150\n",
      "192     70\n",
      "193     60\n",
      "241     60\n",
      "272     37\n",
      "341     19\n",
      "363     70\n",
      "386    130\n",
      "401    155\n",
      "459     59\n",
      "463     25\n",
      "506     38\n",
      "540    100\n",
      "548     60\n",
      "Name: BudgetMillions, dtype: int64, 0       8\n",
      "4      20\n",
      "6      30\n",
      "8      28\n",
      "9       8\n",
      "       ..\n",
      "552    80\n",
      "553    22\n",
      "554    50\n",
      "555    18\n",
      "558    80\n",
      "Name: BudgetMillions, Length: 172, dtype: int64, 10     30\n",
      "11     20\n",
      "13      7\n",
      "18      8\n",
      "23     20\n",
      "       ..\n",
      "529    66\n",
      "532    38\n",
      "534    21\n",
      "541    15\n",
      "545     2\n",
      "Name: BudgetMillions, Length: 101, dtype: int64, 7      32\n",
      "12     35\n",
      "20     40\n",
      "28      5\n",
      "59     26\n",
      "88     10\n",
      "97     25\n",
      "100    30\n",
      "103    50\n",
      "109    20\n",
      "126    40\n",
      "135    19\n",
      "137    30\n",
      "160    20\n",
      "161    15\n",
      "175    10\n",
      "194     2\n",
      "246    35\n",
      "259    25\n",
      "285    20\n",
      "286    30\n",
      "292     1\n",
      "293     3\n",
      "294     5\n",
      "311    18\n",
      "315    12\n",
      "321    42\n",
      "322     4\n",
      "332    10\n",
      "333    11\n",
      "335    40\n",
      "343    25\n",
      "349     8\n",
      "355    13\n",
      "373    50\n",
      "404    20\n",
      "414    12\n",
      "416    40\n",
      "426     5\n",
      "429    15\n",
      "453    18\n",
      "461    40\n",
      "462    37\n",
      "464    16\n",
      "465    25\n",
      "475     9\n",
      "478    38\n",
      "486    16\n",
      "521    10\n",
      "Name: BudgetMillions, dtype: int64, 16      45\n",
      "42      17\n",
      "78      50\n",
      "108     60\n",
      "136     35\n",
      "201      0\n",
      "208     80\n",
      "244     17\n",
      "250     20\n",
      "255     40\n",
      "266     56\n",
      "284     15\n",
      "290     30\n",
      "354     35\n",
      "507    110\n",
      "510     15\n",
      "524      5\n",
      "525      2\n",
      "Name: BudgetMillions, dtype: int64, 25     100\n",
      "72      60\n",
      "95      20\n",
      "105     15\n",
      "179    150\n",
      "180     60\n",
      "189     40\n",
      "225     27\n",
      "237      4\n",
      "243     25\n",
      "253     20\n",
      "261     20\n",
      "263    130\n",
      "267     70\n",
      "282     85\n",
      "358     32\n",
      "385     51\n",
      "389     20\n",
      "394    110\n",
      "406    185\n",
      "407    100\n",
      "408     20\n",
      "419     90\n",
      "424     48\n",
      "432     13\n",
      "471     15\n",
      "481    100\n",
      "491     35\n",
      "494     21\n",
      "498     22\n",
      "503     35\n",
      "513     30\n",
      "515     35\n",
      "519     75\n",
      "522     40\n",
      "556     65\n",
      "Name: BudgetMillions, dtype: int64]\n"
     ]
    }
   ],
   "source": [
    "list1=list()\n",
    "mylabels=list()\n",
    "for gen in movies.Genre.cat.categories:\n",
    "    list1.append(movies[movies.Genre==gen].BudgetMillions)\n",
    "    mylabels.append(gen)\n",
    "print(list1)"
   ]
  },
  {
   "cell_type": "code",
   "execution_count": 15,
   "id": "8d3689bd",
   "metadata": {},
   "outputs": [
    {
     "data": {
      "image/png": "[encoded data removed]",
      "text/plain": [
       "<Figure size 432x288 with 1 Axes>"
      ]
     },
     "metadata": {
      "needs_background": "light"
     },
     "output_type": "display_data"
    }
   ],
   "source": [
    "h=plt.hist(list1,bins=30,stacked=True,rwidth=1,label=mylabels)\n",
    "plt.legend()\n",
    "plt.show()"
   ]
  },
  {
   "cell_type": "code",
   "execution_count": null,
   "id": "7bf7e9ce",
   "metadata": {},
   "outputs": [],
   "source": []
  }
 ],
 "metadata": {
  "kernelspec": {
   "display_name": "Python 3 (ipykernel)",
   "language": "python",
   "name": "python3"
  },
  "language_info": {
   "codemirror_mode": {
    "name": "ipython",
    "version": 3
   },
   "file_extension": ".py",
   "mimetype": "text/x-python",
   "name": "python",
   "nbconvert_exporter": "python",
   "pygments_lexer": "ipython3",
   "version": "3.9.7"
  }
 },
 "nbformat": 4,
 "nbformat_minor": 5
}
